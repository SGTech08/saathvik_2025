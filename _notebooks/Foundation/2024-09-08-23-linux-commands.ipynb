{
 "cells": [
  {
   "cell_type": "raw",
   "metadata": {
    "vscode": {
     "languageId": "raw"
    }
   },
   "source": [
    "---\n",
    "layout: post\n",
    "title: Linux Commands\n",
    "description:  Commands to demonstrate my understanding of Linux.\n",
    "type: issues \n",
    "comments: true\n",
    "---"
   ]
  },
  {
   "cell_type": "markdown",
   "metadata": {},
   "source": [
    "## Before we get started I wanted to highlight the purpose of this notebook. I wanted to explictly test my skills on Linux commands. I decided to make a bash script that checks if my personal computer has all the required installations for the CSA course. "
   ]
  },
  {
   "cell_type": "raw",
   "metadata": {},
   "source": [
    "# Here is the Script\n",
    "\n",
    "\n",
    "\n",
    "\n",
    "GREEN=\"\\033[32m\"\n",
    "RED=\"\\033[31m\"\n",
    "YELLOW=\"\\033[33m\"\n",
    "NC=\"\\033[0m\" \n",
    "\n",
    "check_command() {\n",
    "    command_name=$1\n",
    "    version_flag=$2\n",
    "    package_name=$3\n",
    "\n",
    "    echo -e \"${YELLOW}Checking for $package_name...${NC}\"\n",
    "\n",
    "    if command -v \"$command_name\" &> /dev/null\n",
    "    then\n",
    "        version=$($command_name $version_flag)\n",
    "        echo -e \"${GREEN}$package_name is installed: ${version}${NC}\"\n",
    "    else\n",
    "        echo -e \"${RED}$package_name is not installed.${NC}\"\n",
    "        echo -e \"${YELLOW}To install $package_name, please run:${NC}\"\n",
    "        case \"$command_name\" in\n",
    "            jupyter)\n",
    "                echo \"  pip install jupyterlab\"\n",
    "                ;;\n",
    "            python)\n",
    "                echo \"  sudo apt install python3 (for Linux)\"\n",
    "                echo \"  brew install python3 (for Mac)\"\n",
    "                ;;\n",
    "            java)\n",
    "                echo \"  sudo apt install default-jdk (for Linux)\"\n",
    "                echo \"  brew install java (for Mac)\"\n",
    "                ;;\n",
    "            *)\n",
    "                echo \"  Use your package manager to install $package_name.\"\n",
    "                ;;\n",
    "        esac\n",
    "    fi\n",
    "    echo \"\"\n",
    "}\n",
    "\n",
    "# Check for Python\n",
    "check_command \"python3\" \"--version\" \"Python\"\n",
    "\n",
    "# Check for Jupyter\n",
    "check_command \"jupyter\" \"--version\" \"Jupyter\"\n",
    "\n",
    "# Check for Jupyter Kernels\n",
    "check_jupyter_kernels() {\n",
    "    if command -v jupyter &> /dev/null\n",
    "    then\n",
    "        echo -e \"${YELLOW}Checking Jupyter kernels...${NC}\"\n",
    "        kernels=$(jupyter kernelspec list 2>/dev/null)\n",
    "        if [ -n \"$kernels\" ]; then\n",
    "            echo -e \"${GREEN}Jupyter kernels installed:${NC}\"\n",
    "            echo \"$kernels\"\n",
    "        else\n",
    "            echo -e \"${RED}No Jupyter kernels installed.${NC}\"\n",
    "        fi\n",
    "    fi\n",
    "}\n",
    "\n",
    "check_jupyter_kernels\n",
    "\n",
    "check_command \"java\" \"-version\" \"Java\"\n",
    "\n",
    "check_command \"pip3\" \"--version\" \"Pip\"\n",
    "\n",
    "check_command \"node\" \"--version\" \"Node.js (for Jupyter extensions)\"\n",
    "\n",
    "echo -e \"${GREEN}System check completed.${NC}\""
   ]
  },
  {
   "cell_type": "markdown",
   "metadata": {},
   "source": [
    "Here is the result in the terminal with the Bash script.\n",
    "\n",
    "It clearly shows my understanding of linux commands and helps people to see what they are missing for the course:\n",
    "![image](https://imgur.com/a/gCpvUU7)"
   ]
  }
 ],
 "metadata": {
  "language_info": {
   "name": "python"
  }
 },
 "nbformat": 4,
 "nbformat_minor": 2
}
