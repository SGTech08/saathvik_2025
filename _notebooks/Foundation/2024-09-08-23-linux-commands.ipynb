{
 "cells": [
  {
   "cell_type": "raw",
   "metadata": {
    "vscode": {
     "languageId": "raw"
    }
   },
   "source": [
    "---\n",
    "layout: post\n",
    "title: Linux Commands\n",
    "description:  Commands to demonstrate my understanding of Linux.\n",
    "type: issues \n",
    "comments: true\n",
    "---"
   ]
  },
  {
   "cell_type": "markdown",
   "metadata": {},
   "source": [
    " Before we get started I wanted to highlight the purpose of this notebook. I wanted to explictly test my skills on Linux commands. I decided to make a bash script that checks if my personal computer has all the required installations for the CSA course. "
   ]
  },
  {
   "cell_type": "raw",
   "metadata": {},
   "source": [
    "\n",
    "\n",
    "GREEN=\"\\033[32m\"\n",
    "RED=\"\\033[31m\"\n",
    "YELLOW=\"\\033[33m\"\n",
    "NC=\"\\033[0m\" \n",
    "\n",
    "check_command() \n",
    "    command_name=$1\n",
    "    version_flag=$2\n",
    "    package_name=$3\n",
    "\n",
    "    echo -e \"${YELLOW}Checking for $package_name...${NC}\"\n",
    "\n",
    "    if command -v \"$command_name\" &> /dev/null\n",
    "    then\n",
    "        version=$($command_name $version_flag)\n",
    "        echo -e \"${GREEN}$package_name is installed: ${version}${NC}\"\n",
    "    else\n",
    "        echo -e \"${RED}$package_name is not installed.${NC}\"\n",
    "        echo -e \"${YELLOW}To install $package_name, please run:${NC}\"\n",
    "        case \"$command_name\" in\n",
    "            jupyter)\n",
    "                echo \"  pip install jupyterlab\"\n",
    "                ;;\n",
    "            python)\n",
    "                echo \"  sudo apt install python3 (for Linux)\"\n",
    "                echo \"  brew install python3 (for Mac)\"\n",
    "                ;;\n",
    "            java)\n",
    "                echo \"  sudo apt install default-jdk (for Linux)\"\n",
    "                echo \"  brew install java (for Mac)\"\n",
    "                ;;\n",
    "            *)\n",
    "                echo \"  Use your package manager to install $package_name.\"\n",
    "                ;;\n",
    "        esac\n",
    "    fi\n",
    "    echo \"\"\n",
    "\n",
    "\n",
    "check_command \"python3\" \"--version\" \"Python\"\n",
    "\n",
    "\n",
    "check_command \"jupyter\" \"--version\" \"Jupyter\"\n",
    "\n",
    "check_jupyter_kernels() \n",
    "    if command -v jupyter &> /dev/null\n",
    "    then\n",
    "        echo -e \"${YELLOW}Checking Jupyter kernels...${NC}\"\n",
    "        kernels=$(jupyter kernelspec list 2>/dev/null)\n",
    "        if [ -n \"$kernels\" ]; then\n",
    "            echo -e \"${GREEN}Jupyter kernels installed:${NC}\"\n",
    "            echo \"$kernels\"\n",
    "        else\n",
    "            echo -e \"${RED}No Jupyter kernels installed.${NC}\"\n",
    "        fi\n",
    "    fi\n",
    "check_jupyter_kernels\n",
    "check_command \"java\" \"-version\" \"Java\"\n",
    "check_command \"pip3\" \"--version\" \"Pip\"\n",
    "check_command \"node\" \"--version\" \"Node.js (for Jupyter extensions)\"\n",
    "echo -e \"${GREEN}System check completed.${NC}\""
   ]
  },
  {
   "cell_type": "markdown",
   "metadata": {},
   "source": [
    "Here is the result in the terminal with the Bash script.\n",
    "\n",
    "It clearly shows my understanding of linux commands and helps people to see what they are missing for the course:\n",
    "![image](https://i.imgur.com/M6oaVGY.png)"
   ]
  },
  {
   "cell_type": "markdown",
   "metadata": {},
   "source": [
    "In Addition to all of the above I also made a bash script that helps MacOS users install their java kernel if they have both Java and Jupyter already installed (Default if attended CSP)\n",
    "\n",
    "This Script helped a lot of people who were struggling before."
   ]
  },
  {
   "cell_type": "raw",
   "metadata": {},
   "source": [
    "<<comment\n",
    "# Help\n",
    "# Objective of this exercise is to test setup environment ...\n",
    "#     plus, start a Web Server\n",
    "# The hash # is a comment or action ...\n",
    "#     # is a comment symbol in a .sh file \n",
    "# The dollar $ represent a terminal command ... \n",
    "#     $ is not part of command\n",
    "\n",
    "# Start a terminal for commands\n",
    "$ mdkir vscode\n",
    "cd vscode\n",
    "git clone https://github.com/nighthawkcoders/teacher_portfolio.git\n",
    "cd ~/vscode/teacher_portfolio/scripts\n",
    "./activate_ubuntu.sh\n",
    "\n",
    "# Run the head command, leave this terminal open ...\n",
    "#    the head command shows remaining instructions  ...\n",
    "#    find this spot and continue on\n",
    "head -34 ~/vscode/teacher_portfolio/scripts/activate_ubuntu.sh\n",
    "\n",
    "# Start a new terminal ...\n",
    "#    the \"new\" terminal is the command terminal ...\n",
    "#    the \"original\" terminal shows commands ...\n",
    "#    type commands in \"new\" terminal\n",
    "cd ~/vscode/teacher_portfolio\n",
    "pip install -r requirements.txt\n",
    "bundle install\n",
    "make\n",
    "\n",
    "# End\n",
    "# The build execution is complete ...\n",
    "#     Ctl-Click on \"link\" in terminal ...\n",
    "#     observe web site in the opened browser\n",
    "comment\n",
    "\n",
    "echo \"The Point of this script is to install a Java kernel for your Jupyter Notebooks\"\n",
    "\n",
    "brew install jbangdev/tap/jbang\n",
    "\n",
    "\n",
    "jbang install-kernel@jupyter-java\n",
    "jupyter kernelspec list"
   ]
  }
 ],
 "metadata": {
  "language_info": {
   "name": "python"
  }
 },
 "nbformat": 4,
 "nbformat_minor": 2
}
