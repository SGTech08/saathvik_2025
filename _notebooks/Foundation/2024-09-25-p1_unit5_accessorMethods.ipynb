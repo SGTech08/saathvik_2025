{
 "cells": [
  {
   "cell_type": "markdown",
   "metadata": {},
   "source": [
    "---\n",
    "layout: post\n",
    "title: Unit 5 Classes - Accessor Methods \n",
    "type: ccc \n",
    "comments: true\n",
    "hide: true\n",
    "\n",
    "---"
   ]
  },
  {
   "cell_type": "markdown",
   "metadata": {},
   "source": [
    "# What is an accessor method? \n",
    "\n",
    "- Allow safe access to instance variables \n",
    "    - Prevents access to variables from outside \n",
    "- AKA \"get methods\" or \"getters\" \n",
    "- If another class or a function needs access to the variable, you use an accessor method \n",
    "\n",
    "## Example: "
   ]
  },
  {
   "cell_type": "code",
   "execution_count": null,
   "metadata": {},
   "outputs": [],
   "source": [
    "public class snack { \n",
    "    private String name; \n",
    "    private int calories; \n",
    "\n",
    "    public Snack() { \n",
    "        name \"\"; \n",
    "        calories = 0; \n",
    "    }\n",
    "\n",
    "    public Snack (string n, int c) { \n",
    "        name = n; \n",
    "        calories = c; \n",
    "    }\n",
    "\n",
    "    public String getName(){\n",
    "        return Name; \n",
    "    }\n",
    "\n",
    "    public int getCalories() { \n",
    "        return calories; \n",
    "    }\n",
    "}"
   ]
  },
  {
   "cell_type": "markdown",
   "metadata": {},
   "source": [
    "### Private Instance Variables: \n",
    "\n",
    "`private String name; \n",
    "private int calories;`\n",
    "\n",
    "### Default Constructors \n",
    "`public Snack() { \n",
    "        name \"\"; \n",
    "        calories = 0; \n",
    "    }`\n",
    "\n",
    "### Overload Constructor\n",
    "`public Snack (string n, int c) { \n",
    "        name = n; \n",
    "        calories = c; \n",
    "    }`\n",
    "\n",
    "### Accessor Methods \n",
    "` public String getName(){\n",
    "        return Name; \n",
    "    }`\n",
    "\n",
    "`public int getCalories() { \n",
    "        return calories; \n",
    "    }`\n",
    "- Return command reciprocate a copy of the instance variable \n"
   ]
  },
  {
   "cell_type": "markdown",
   "metadata": {},
   "source": [
    "## Requirements\n",
    "\n",
    "- Accessor Methods must be public \n",
    "- Return type must match the variable type \n",
    "    - int = int \n",
    "    - string = string \n",
    "    - etc \n",
    "- REMEMBER PRINTING A VALUE IS NOT THE SAME AS RETURNING \n",
    "- Name appropriately\n",
    "    - Often is `getNameOfVariable` \n",
    "- No parameters \n",
    "\n",
    "#### Notice how the methods from the example match: `public String getName(){` and `public int getCalories()` "
   ]
  },
  {
   "cell_type": "markdown",
   "metadata": {},
   "source": [
    "![Accessors Diagram](https://www.cs.emory.edu/~cheung/Courses/171/Syllabus/03-classes/FIGS/immutable01d.png)"
   ]
  },
  {
   "cell_type": "markdown",
   "metadata": {},
   "source": [
    "## Popcorn Hack #1: \n",
    "\n",
    "Below is a constructor of a class, write the acccessor methods for all instance variables. "
   ]
  },
  {
   "cell_type": "code",
   "execution_count": 1,
   "metadata": {},
   "outputs": [
    {
     "name": "stdout",
     "output_type": "stream",
     "text": [
      "Pet Name: Buddy\n",
      "Pet Type: Dog\n",
      "Pet Age: 5\n"
     ]
    }
   ],
   "source": [
    "public class Pet {\n",
    "    // Instance variables\n",
    "    private String name;\n",
    "    private String typeOfPet;\n",
    "    private int age;\n",
    "\n",
    "    public Pet(String name, String typeOfPet, int age) {\n",
    "        this.name = name;\n",
    "        this.typeOfPet = typeOfPet;\n",
    "        this.age = age;\n",
    "    }\n",
    "\n",
    "    public int getAge() {\n",
    "        return age;\n",
    "    }\n",
    "\n",
    "    public String getName() {\n",
    "        return name;\n",
    "    }\n",
    "\n",
    "    public String getTypeOfPet() {\n",
    "        return typeOfPet;\n",
    "    }\n",
    "\n",
    "    public void displayPetDetails() {\n",
    "        System.out.println(\"Pet Name: \" + getName());\n",
    "        System.out.println(\"Pet Type: \" + getTypeOfPet());\n",
    "        System.out.println(\"Pet Age: \" + getAge());\n",
    "    }\n",
    "}\n",
    "\n",
    "Pet myPet = new Pet(\"Buddy\", \"Dog\", 5);\n",
    "myPet.displayPetDetails();"
   ]
  },
  {
   "cell_type": "markdown",
   "metadata": {},
   "source": [
    "### How can we print out all the information about an instance of an object?"
   ]
  },
  {
   "cell_type": "code",
   "execution_count": 3,
   "metadata": {},
   "outputs": [
    {
     "name": "stdout",
     "output_type": "stream",
     "text": [
      "Sport: Volleyball, Players: 12\n"
     ]
    }
   ],
   "source": [
    "public class Sport {\n",
    "    private String sportName;\n",
    "    private int numPlayers;\n",
    "\n",
    "    public Sport(String sportName, int numPlayers) {\n",
    "        this.sportName = sportName;\n",
    "        this.numPlayers = numPlayers;\n",
    "    }\n",
    "\n",
    "    @Override\n",
    "    public String toString() {\n",
    "        return \"Sport: \" + sportName + \", Players: \" + numPlayers;\n",
    "    }\n",
    "}\n",
    "\n",
    "public class SportTester {\n",
    "    public static void main(String[] args) {\n",
    "        Sport volley = new Sport(\"Volleyball\", 12);\n",
    "\n",
    "        System.out.println(volley);\n",
    "    }\n",
    "}\n",
    "\n",
    "SportTester.main(null);"
   ]
  }
 ],
 "metadata": {
  "kernelspec": {
   "display_name": "java (IJava/j!)",
   "language": "java",
   "name": "jbang-ijava"
  },
  "language_info": {
   "codemirror_mode": "java",
   "file_extension": ".jshell",
   "mimetype": "text/x-java-source",
   "name": "java",
   "pygments_lexer": "java",
   "version": "17.0.11+7-LTS-207"
  }
 },
 "nbformat": 4,
 "nbformat_minor": 2
}
