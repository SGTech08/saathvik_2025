{
 "cells": [
  {
   "cell_type": "raw",
   "metadata": {
    "vscode": {
     "languageId": "raw"
    }
   },
   "source": [
    "---\n",
    "layout: post\n",
    "title: Unit 3 Team Teach - 3.3\n",
    "description: Unit 3 Team Teach\n",
    "comments: true\n",
    "menu: nav/CSA_Units/csa_unit3_p1.html\n",
    "permalink: /csa/unit3-p1/unit3-3\n",
    "author: Alisha Hussain, Anika Bhatnagar, Kayden Le, Sharon Kodali\n",
    "---"
   ]
  },
  {
   "cell_type": "markdown",
   "metadata": {},
   "source": [
    "# 3.3 If Else Statements\n",
    "\n",
    "<a id=\"if-else-statements\"></a>\n",
    "## Purpose of Else Statements\n",
    "Else statements: Handles what happens when the if condition is false.\n",
    "Structure of If-Else:\n",
    "- If statement with a condition.\n",
    "- Else statement without a condition.\n",
    "- Both parts have code blocks surrounded by {}.\n",
    "\n"
   ]
  },
  {
   "cell_type": "markdown",
   "metadata": {},
   "source": [
    "# don't forget the brackets "
   ]
  },
  {
   "cell_type": "code",
   "execution_count": null,
   "metadata": {
    "vscode": {
     "languageId": "java"
    }
   },
   "outputs": [],
   "source": [
    "if (x > 10) {\n",
    "\n",
    "        console.log(\"x is greater than 10\");\n",
    "        console.log(\"This code when the condition is true\");\n",
    "    } else {\n",
    "    \n",
    "        console.log(\"x is 10 or less\");\n",
    "        console.log(\"This code runs when the condition is false\");\n",
    "    }\n",
    "    Without brackets:\n",
    "    \n",
    "    if (x > 10)\n",
    "    \n",
    "        console.log(\"x is greater than 10\");\n",
    "        console.log(\"this code will always run\");"
   ]
  },
  {
   "cell_type": "markdown",
   "metadata": {},
   "source": [
    "<img width=\"816\" alt=\"image\" src=\"https://github.com/user-attachments/assets/c6701143-b87f-427b-a206-6cee0660571c\">\n",
    "\n",
    "1. Based on this code, if you were younger than 16 what would it print out?\n",
    "2. Write your own if else statement"
   ]
  },
  {
   "cell_type": "code",
   "execution_count": 1,
   "metadata": {
    "vscode": {
     "languageId": "java"
    }
   },
   "outputs": [
    {
     "name": "stdout",
     "output_type": "stream",
     "text": [
      "your pretty young.\n"
     ]
    }
   ],
   "source": [
    "// if I was younger than 16, it would print out \"You are not old enough for a license yet.\"\n",
    "\n",
    "// if else statement code below\n",
    "int age = 20; \n",
    "\n",
    "if (age < 13) {\n",
    "    System.out.println(\"you are very young\");\n",
    "} else if (age >= 13 && age < 20) {\n",
    "    System.out.println(\"you are a teen \");\n",
    "} else if (age >= 20 && age < 65) {\n",
    "    System.out.println(\"your pretty young.\");\n",
    "} else {\n",
    "    System.out.println(\"hi\");\n",
    "}\n"
   ]
  },
  {
   "cell_type": "code",
   "execution_count": 1,
   "metadata": {
    "vscode": {
     "languageId": "java"
    }
   },
   "outputs": [
    {
     "ename": "CompilationException",
     "evalue": "",
     "output_type": "error",
     "traceback": [
      "\u001b[1m\u001b[30m|   \u001b[1m\u001b[30m    \u001b[0m\u001b[1m\u001b[30m\u001b[41m\u001b[0m\u001b[1m\u001b[30m    console.log(\"You areold enough to drive\");\u001b[0m",
      "\u001b[1m\u001b[31millegal character: '\\u00a0'\u001b[0m",
      "",
      "\u001b[1m\u001b[30m|   \u001b[1m\u001b[30m     \u001b[0m\u001b[1m\u001b[30m\u001b[41m\u001b[0m\u001b[1m\u001b[30m   console.log(\"You areold enough to drive\");\u001b[0m",
      "\u001b[1m\u001b[31millegal character: '\\u00a0'\u001b[0m",
      "",
      "\u001b[1m\u001b[30m|   \u001b[1m\u001b[30m      \u001b[0m\u001b[1m\u001b[30m\u001b[41m\u001b[0m\u001b[1m\u001b[30m  console.log(\"You areold enough to drive\");\u001b[0m",
      "\u001b[1m\u001b[31millegal character: '\\u00a0'\u001b[0m",
      "",
      "\u001b[1m\u001b[30m|   \u001b[1m\u001b[30m       \u001b[0m\u001b[1m\u001b[30m\u001b[41m\u001b[0m\u001b[1m\u001b[30m console.log(\"You areold enough to drive\");\u001b[0m",
      "\u001b[1m\u001b[31millegal character: '\\u00a0'\u001b[0m",
      "",
      "\u001b[1m\u001b[30m|   \u001b[1m\u001b[30m    \u001b[0m\u001b[1m\u001b[30m\u001b[41m\u001b[0m\u001b[1m\u001b[30m    console.log(\"This code when the condition is true\");\u001b[0m",
      "\u001b[1m\u001b[31millegal character: '\\u00a0'\u001b[0m",
      "",
      "\u001b[1m\u001b[30m|   \u001b[1m\u001b[30m     \u001b[0m\u001b[1m\u001b[30m\u001b[41m\u001b[0m\u001b[1m\u001b[30m   console.log(\"This code when the condition is true\");\u001b[0m",
      "\u001b[1m\u001b[31millegal character: '\\u00a0'\u001b[0m",
      "",
      "\u001b[1m\u001b[30m|   \u001b[1m\u001b[30m      \u001b[0m\u001b[1m\u001b[30m\u001b[41m\u001b[0m\u001b[1m\u001b[30m  console.log(\"This code when the condition is true\");\u001b[0m",
      "\u001b[1m\u001b[31millegal character: '\\u00a0'\u001b[0m",
      "",
      "\u001b[1m\u001b[30m|   \u001b[1m\u001b[30m       \u001b[0m\u001b[1m\u001b[30m\u001b[41m\u001b[0m\u001b[1m\u001b[30m console.log(\"This code when the condition is true\");\u001b[0m",
      "\u001b[1m\u001b[31millegal character: '\\u00a0'\u001b[0m",
      "",
      "\u001b[1m\u001b[30m|   \u001b[1m\u001b[30m    \u001b[0m\u001b[1m\u001b[30m\u001b[41m\u001b[0m\u001b[1m\u001b[30m    console.log(\"Grow older!\");\u001b[0m",
      "\u001b[1m\u001b[31millegal character: '\\u00a0'\u001b[0m",
      "",
      "\u001b[1m\u001b[30m|   \u001b[1m\u001b[30m     \u001b[0m\u001b[1m\u001b[30m\u001b[41m\u001b[0m\u001b[1m\u001b[30m   console.log(\"Grow older!\");\u001b[0m",
      "\u001b[1m\u001b[31millegal character: '\\u00a0'\u001b[0m",
      "",
      "\u001b[1m\u001b[30m|   \u001b[1m\u001b[30m      \u001b[0m\u001b[1m\u001b[30m\u001b[41m\u001b[0m\u001b[1m\u001b[30m  console.log(\"Grow older!\");\u001b[0m",
      "\u001b[1m\u001b[31millegal character: '\\u00a0'\u001b[0m",
      "",
      "\u001b[1m\u001b[30m|   \u001b[1m\u001b[30m       \u001b[0m\u001b[1m\u001b[30m\u001b[41m\u001b[0m\u001b[1m\u001b[30m console.log(\"Grow older!\");\u001b[0m",
      "\u001b[1m\u001b[31millegal character: '\\u00a0'\u001b[0m",
      "",
      "\u001b[1m\u001b[30m|   \u001b[1m\u001b[30m    \u001b[0m\u001b[1m\u001b[30m\u001b[41m\u001b[0m\u001b[1m\u001b[30m    console.log(\"This code runs when the condition is false\");\u001b[0m",
      "\u001b[1m\u001b[31millegal character: '\\u00a0'\u001b[0m",
      "",
      "\u001b[1m\u001b[30m|   \u001b[1m\u001b[30m     \u001b[0m\u001b[1m\u001b[30m\u001b[41m\u001b[0m\u001b[1m\u001b[30m   console.log(\"This code runs when the condition is false\");\u001b[0m",
      "\u001b[1m\u001b[31millegal character: '\\u00a0'\u001b[0m",
      "",
      "\u001b[1m\u001b[30m|   \u001b[1m\u001b[30m      \u001b[0m\u001b[1m\u001b[30m\u001b[41m\u001b[0m\u001b[1m\u001b[30m  console.log(\"This code runs when the condition is false\");\u001b[0m",
      "\u001b[1m\u001b[31millegal character: '\\u00a0'\u001b[0m",
      "",
      "\u001b[1m\u001b[30m|   \u001b[1m\u001b[30m       \u001b[0m\u001b[1m\u001b[30m\u001b[41m\u001b[0m\u001b[1m\u001b[30m console.log(\"This code runs when the condition is false\");\u001b[0m",
      "\u001b[1m\u001b[31millegal character: '\\u00a0'\u001b[0m",
      ""
     ]
    }
   ],
   "source": [
    "if (x >= 16) {\n",
    "\n",
    "        console.log(\"You areold enough to drive\");\n",
    "        console.log(\"This code when the condition is true\");\n",
    "    } else {\n",
    "    \n",
    "        console.log(\"Grow older!\");\n",
    "        console.log(\"This code runs when the condition is false\");\n",
    "    }\n",
    "\n",
    "    \n"
   ]
  }
 ],
 "metadata": {
  "kernelspec": {
   "display_name": "java (IJava/j!)",
   "language": "java",
   "name": "jbang-ijava"
  },
  "language_info": {
   "codemirror_mode": "java",
   "file_extension": ".jshell",
   "mimetype": "text/x-java-source",
   "name": "Java",
   "pygments_lexer": "java",
   "version": "17.0.11+7-LTS-207"
  }
 },
 "nbformat": 4,
 "nbformat_minor": 2
}
