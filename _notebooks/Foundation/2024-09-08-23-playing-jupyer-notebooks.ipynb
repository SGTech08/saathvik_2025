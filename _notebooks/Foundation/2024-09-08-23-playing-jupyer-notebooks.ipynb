{
 "cells": [
  {
   "cell_type": "raw",
   "metadata": {
    "vscode": {
     "languageId": "raw"
    }
   },
   "source": [
    "---\n",
    "layout: post\n",
    "title: Jupyter Notebooks\n",
    "description:  Jup notebooks\n",
    "type: issues \n",
    "comments: true\n",
    "---"
   ]
  },
  {
   "cell_type": "code",
   "execution_count": 4,
   "metadata": {},
   "outputs": [
    {
     "data": {
      "text/markdown": [
       "### Wikipedia Summary for **apple**"
      ],
      "text/plain": [
       "<IPython.core.display.Markdown object>"
      ]
     },
     "metadata": {},
     "output_type": "display_data"
    },
    {
     "data": {
      "text/markdown": [
       "In mathematics and computer science, apply is a function that applies a function to arguments. It is central to programming languages derived from lambda calculus, such as LISP and Scheme, and also in functional languages. It has a role in the study of the denotational semantics of computer programs, because it is a continuous function on complete partial orders. Apply is also a continuous function in homotopy theory, and, indeed underpins the entire theory: it allows a homotopy deformation to be viewed as a continuous path in the space of functions.  Likewise, valid mutations (refactorings) of computer programs can be seen as those that are \"continuous\" in the Scott topology.\n",
       "The most general setting for apply is in category theory, where it is right adjoint to currying in closed monoidal categories. A special case of this are the Cartesian closed categories, whose internal language is simply typed lambda calculus.\n",
       "\n"
      ],
      "text/plain": [
       "<IPython.core.display.Markdown object>"
      ]
     },
     "metadata": {},
     "output_type": "display_data"
    },
    {
     "data": {
      "text/markdown": [
       "**Sentiment Analysis Result:** 😀 This article seems positive!"
      ],
      "text/plain": [
       "<IPython.core.display.Markdown object>"
      ]
     },
     "metadata": {},
     "output_type": "display_data"
    }
   ],
   "source": [
    "import wikipedia\n",
    "from emoji import emojize\n",
    "from IPython.display import display, Markdown\n",
    "from textblob import TextBlob\n",
    "\n",
    "def analyze_sentiment(text):\n",
    "    analysis = TextBlob(text)\n",
    "    sentiment_score = analysis.sentiment.polarity\n",
    "    \n",
    "    if sentiment_score > 0:\n",
    "        return emojize(\":grinning_face: This article seems positive!\")\n",
    "    elif sentiment_score < 0:\n",
    "        return emojize(\":thumbs_down: This article seems negative.\")\n",
    "    else:\n",
    "        return emojize(\":neutral_face: This article seems neutral.\")\n",
    "\n",
    "def wiki_search_with_feedback():\n",
    "    term = input(\"Enter a term to search on Wikipedia: \")\n",
    "    \n",
    "    try:\n",
    "        result = wikipedia.search(term)\n",
    "        summary = wikipedia.summary(result[0])  \n",
    "        display(Markdown(f\"### Wikipedia Summary for **{term}**\"))\n",
    "        display(Markdown(summary))\n",
    "        sentiment_feedback = analyze_sentiment(summary)\n",
    "        display(Markdown(f\"**Sentiment Analysis Result:** {sentiment_feedback}\"))\n",
    "\n",
    "    except wikipedia.exceptions.DisambiguationError as e:\n",
    "        display(Markdown(f\":warning: **Multiple results found for '{term}', please be more specific:**\"))\n",
    "        for option in e.options[:5]:\n",
    "            display(Markdown(f\"- {option}\"))\n",
    "    except wikipedia.exceptions.PageError:\n",
    "        display(Markdown(f\":warning: **No page found for '{term}', please try a different search term.**\"))\n",
    "\n",
    "wiki_search_with_feedback()"
   ]
  }
 ],
 "metadata": {
  "kernelspec": {
   "display_name": "venv",
   "language": "python",
   "name": "python3"
  },
  "language_info": {
   "codemirror_mode": {
    "name": "ipython",
    "version": 3
   },
   "file_extension": ".py",
   "mimetype": "text/x-python",
   "name": "python",
   "nbconvert_exporter": "python",
   "pygments_lexer": "ipython3",
   "version": "3.11.4"
  }
 },
 "nbformat": 4,
 "nbformat_minor": 2
}
