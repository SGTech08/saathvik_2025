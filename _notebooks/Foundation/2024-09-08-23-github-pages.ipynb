{
 "cells": [
  {
   "cell_type": "raw",
   "metadata": {
    "vscode": {
     "languageId": "raw"
    }
   },
   "source": [
    "---\n",
    "layout: post\n",
    "title: Github Pages\n",
    "description:  Commands to demonstrate my understanding of Linux.\n",
    "type: issues \n",
    "comments: true\n",
    "menu: nav/page_hacks.html\n",
    "---"
   ]
  },
  {
   "cell_type": "markdown",
   "metadata": {},
   "source": [
    "GitHub Pages Hacks\n",
    "Enhance or update your GitHub Pages using your new knowledge from Previous Hacks.\n",
    "\n",
    "Alter index.md with images and links according to some of your personal interests project. \n",
    "Make your index.md contain a submenu that points to several Notebooks.\n",
    "Make one of the Notebooks a planning document on what you attempted to do versus accomplishment.\n",
    "Make one of the Notebooks running a JavaScript cell\n",
    "Make one of the Notebooks and About Pages\n",
    "\n",
    "![imag45](https://i.imgur.com/ReaN378.png)"
   ]
  },
  {
   "cell_type": "markdown",
   "metadata": {},
   "source": [
    "## Themes\n",
    "\n",
    "\n",
    "Setup your blog so you can rotate between two different themes, one in _config.yml and one in _sass/minima\n",
    "Be prepared for live demonstration and show you have equivalent functionality.\n",
    "Be sure you have something in your blog that uses Nighthawk SASS.\n",
    "\n",
    "![image](https://i.imgur.com/Ps83tWd.png)\n",
    "![image2](https://i.imgur.com/0ZR1PV7.png)\n",
    "![image3](https://i.imgur.com/iupllY7.png)\n",
    "![image4](https://i.imgur.com/ReaN378.png)\n"
   ]
  },
  {
   "cell_type": "markdown",
   "metadata": {},
   "source": [
    "## Jekyll and Liquid hack\n",
    "Alter the appearance of the blogs. Modify the layout, style, or content of your blog posts to reflect your personal taste.\n"
   ]
  },
  {
   "cell_type": "markdown",
   "metadata": {},
   "source": [
    "## Utterances Hacks\n",
    "Setup your blogs for direct feedback.\n",
    "Get two other people to mutually share work.\n",
    "Each should evaluate how many thing were accomplished versus asked."
   ]
  }
 ],
 "metadata": {
  "language_info": {
   "name": "python"
  }
 },
 "nbformat": 4,
 "nbformat_minor": 2
}
