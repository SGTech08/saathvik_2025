{
 "cells": [
  {
   "cell_type": "raw",
   "metadata": {
    "vscode": {
     "languageId": "raw"
    }
   },
   "source": [
    "---\n",
    "layout: post\n",
    "title: Github Pages\n",
    "description:  Commands to demonstrate my understanding of Linux.\n",
    "type: issues \n",
    "comments: true\n",
    "---"
   ]
  },
  {
   "cell_type": "markdown",
   "metadata": {},
   "source": [
    "GitHub Pages Hacks\n",
    "Enhance or update your GitHub Pages using your new knowledge from Previous Hacks.\n",
    "\n",
    "Alter index.md with images and links according to some of your personal interests project. \n",
    "Make your index.md contain a submenu that points to several Notebooks.\n",
    "Make one of the Notebooks a planning document on what you attempted to do versus accomplishment.\n",
    "Make one of the Notebooks running a JavaScript cell\n",
    "Make one of the Notebooks and About Pages\n",
    "\n"
   ]
  },
  {
   "cell_type": "markdown",
   "metadata": {},
   "source": [
    "## Themes\n",
    "\n",
    "\n",
    "Setup your blog so you can rotate between two different themes, one in _config.yml and one in _sass/minima\n",
    "Be prepared for live demonstration and show you have equivalent functionality.\n",
    "Be sure you have something in your blog that uses Nighthawk SASS.\n",
    "\n",
    "\n"
   ]
  }
 ],
 "metadata": {
  "language_info": {
   "name": "python"
  }
 },
 "nbformat": 4,
 "nbformat_minor": 2
}
