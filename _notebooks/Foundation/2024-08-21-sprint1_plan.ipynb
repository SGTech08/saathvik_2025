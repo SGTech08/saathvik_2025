{
 "cells": [
  {
   "cell_type": "raw",
   "metadata": {
    "vscode": {
     "languageId": "raw"
    }
   },
   "source": [
    "---\n",
    "layout: post\n",
    "title: Forever Quiz\n",
    "description:  Forever Quiz with CSP Class\n",
    "type: issues \n",
    "comments: true\n",
    "---"
   ]
  },
  {
   "cell_type": "markdown",
   "metadata": {},
   "source": [
    "Here is proof that the nighthawk directory has been deleted with the time:\n",
    "\n",
    "![Proof](https://files.slack.com/files-pri/TRDESSQ3T-F07K3M78VMX/image.png)"
   ]
  }
 ],
 "metadata": {
  "language_info": {
   "name": "python"
  }
 },
 "nbformat": 4,
 "nbformat_minor": 2
}
