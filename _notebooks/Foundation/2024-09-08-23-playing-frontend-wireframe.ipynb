{
 "cells": [
  {
   "cell_type": "raw",
   "metadata": {
    "vscode": {
     "languageId": "raw"
    }
   },
   "source": [
    "---\n",
    "layout: post\n",
    "title: Frontend wireframe\n",
    "description:  Frontend wireframe\n",
    "type: issues \n",
    "comments: true\n",
    "---"
   ]
  },
  {
   "cell_type": "code",
   "execution_count": null,
   "metadata": {
    "vscode": {
     "languageId": "html"
    }
   },
   "outputs": [],
   "source": [
    "\n",
    "<head>\n",
    "    <meta charset=\"UTF-8\">\n",
    "    <meta name=\"viewport\" content=\"width=device-width, initial-scale=1.0\">\n",
    "    <title>Minimal Stock Overview</title>\n",
    "    <style>\n",
    "        body {\n",
    "            font-family: Arial, sans-serif;\n",
    "            margin: 0;\n",
    "            padding: 20px;\n",
    "        }\n",
    "        header {\n",
    "            text-align: center;\n",
    "            margin-bottom: 20px;\n",
    "        }\n",
    "        .container {\n",
    "            max-width: 800px;\n",
    "            margin: 0 auto;\n",
    "        }\n",
    "        .stock-section {\n",
    "            display: flex;\n",
    "            justify-content: space-between;\n",
    "            margin-bottom: 20px;\n",
    "        }\n",
    "        .stock-section div {\n",
    "            text-align: center;\n",
    "            padding: 10px;\n",
    "            border: 1px solid #ccc;\n",
    "            flex: 1;\n",
    "            margin: 0 5px;\n",
    "        }\n",
    "        a {\n",
    "            text-decoration: none;\n",
    "            color: #333;\n",
    "        }\n",
    "        a:hover {\n",
    "            text-decoration: underline;\n",
    "        }\n",
    "    </style>\n",
    "</head>\n",
    "<body>\n",
    "\n",
    "<header>\n",
    "    <h1>Stock Market Overview</h1>\n",
    "</header>\n",
    "\n",
    "<div class=\"container\">\n",
    "    <div class=\"stock-section\">\n",
    "        <div>\n",
    "            <h3>News</h3>\n",
    "            <a href=\"#\">Latest Stock News</a>\n",
    "        </div>\n",
    "        <div>\n",
    "            <h3>Analysis</h3>\n",
    "            <a href=\"#\">Market Analysis</a>\n",
    "        </div>\n",
    "        <div>\n",
    "            <h3>Charts</h3>\n",
    "            <a href=\"#\">Stock Charts</a>\n",
    "        </div>\n",
    "    </div>\n",
    "\n",
    "    <div class=\"stock-section\">\n",
    "        <div>\n",
    "            <h3>Gainers</h3>\n",
    "            <a href=\"#\">Top Gainers</a>\n",
    "        </div>\n",
    "        <div>\n",
    "            <h3>Losers</h3>\n",
    "            <a href=\"#\">Top Losers</a>\n",
    "        </div>\n",
    "        <div>\n",
    "            <h3>Tips</h3>\n",
    "            <a href=\"#\">Investment Tips</a>\n",
    "        </div>\n",
    "    </div>\n",
    "</div>\n",
    "\n",
    "</body>\n",
    "</html>"
   ]
  }
 ],
 "metadata": {
  "kernelspec": {
   "display_name": "venv",
   "language": "python",
   "name": "python3"
  },
  "language_info": {
   "codemirror_mode": {
    "name": "ipython",
    "version": 3
   },
   "file_extension": ".py",
   "mimetype": "text/x-python",
   "name": "python",
   "nbconvert_exporter": "python",
   "pygments_lexer": "ipython3",
   "version": "3.11.4"
  }
 },
 "nbformat": 4,
 "nbformat_minor": 2
}
