{
 "cells": [
  {
   "cell_type": "markdown",
   "metadata": {},
   "source": [
    "---\n",
    "layout: post\n",
    "title: Unit 2 Objects Submission\n",
    "description: An introduction to what wrapper classes and the Math module are.\n",
    "type: collab\n",
    "toc: true\n",
    "comments: true\n",
    "author: Aadit Mathur, Eric Yu, Shuban Pal, Rahul Verma\n",
    "---"
   ]
  },
  {
   "cell_type": "markdown",
   "metadata": {},
   "source": [
    "Was a very well put together lesson thank you\n",
    "\n",
    "Part 1\n",
    "[Link](https://sgtech08.github.io/saathvik_2025/2024/09/12/Unit_2_part1_IPYNB_2_.html)\n",
    "\n",
    "Part 2\n",
    "[Link](https://sgtech08.github.io/saathvik_2025/2024/09/12/Unit_2_part2_IPYNB_2_.html)\n",
    "\n",
    "\n",
    "Part 3\n",
    "[Link](https://sgtech08.github.io/saathvik_2025/2024/09/13/Unit_2_part3_IPYNB_2_.html)\n",
    "\n",
    "\n",
    "Part 4\n",
    "[Link](https://sgtech08.github.io/saathvik_2025/2024/09/16/Unit_2_part4_IPYNB_2_.html)\n",
    "\n",
    "HW\n",
    "[Link](https://sgtech08.github.io/saathvik_2025/2024/09/12/Unit_2_HW_IPYNB_2_.html)"
   ]
  }
 ],
 "metadata": {
  "language_info": {
   "name": "python"
  },
  "orig_nbformat": 4
 },
 "nbformat": 4,
 "nbformat_minor": 2
}
