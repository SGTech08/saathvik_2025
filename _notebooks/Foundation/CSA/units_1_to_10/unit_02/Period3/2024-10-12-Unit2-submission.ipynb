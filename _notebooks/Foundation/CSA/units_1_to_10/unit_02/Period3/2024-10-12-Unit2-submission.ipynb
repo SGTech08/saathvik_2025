{
 "cells": [
  {
   "cell_type": "markdown",
   "metadata": {},
   "source": [
    "---\n",
    "layout: post\n",
    "title: Unit 2 Objects Submission\n",
    "description: An introduction to what wrapper classes and the Math module are.\n",
    "type: collab\n",
    "toc: true\n",
    "comments: true\n",
    "author: Aadit Mathur, Eric Yu, Shuban Pal, Rahul Verma\n",
    "---"
   ]
  },
  {
   "cell_type": "markdown",
   "metadata": {},
   "source": [
    "Part 1\n",
    "[Link]()\n",
    "\n",
    "Part 2\n",
    "[Link]()\n",
    "\n",
    "\n",
    "Part 3\n",
    "[Link]()\n",
    "\n",
    "\n",
    "Part 4\n",
    "[Link]()\n",
    "\n",
    "HW\n",
    "[Link]()"
   ]
  }
 ],
 "metadata": {
  "language_info": {
   "name": "python"
  },
  "orig_nbformat": 4
 },
 "nbformat": 4,
 "nbformat_minor": 2
}
