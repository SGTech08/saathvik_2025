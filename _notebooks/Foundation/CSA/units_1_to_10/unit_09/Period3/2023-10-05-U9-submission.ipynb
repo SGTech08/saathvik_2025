{
 "cells": [
  {
   "cell_type": "markdown",
   "metadata": {},
   "source": [
    "---\n",
    "layout: post\n",
    "title:  Unit 9 Submission\n",
    "description: Hacks Menu\n",
    "categories: [DevOps]\n",
    "comments: true\n",
    "sticky_rank: 1\n",
    "---"
   ]
  },
  {
   "cell_type": "markdown",
   "metadata": {},
   "source": [
    "Unit 1/2\n",
    "[Link](https://sgtech08.github.io/saathvik_2025/devops/2024/09/12/U9-1_IPYNB_2_.html)\n",
    "\n",
    "Unit 3/4\n",
    "[Link](https://sgtech08.github.io/saathvik_2025/devops/2024/09/12/U9-3_IPYNB_2_.html)\n",
    "\n",
    "Unit 5\n",
    "[Link](https://sgtech08.github.io/saathvik_2025/devops/2024/09/18/U9-5_IPYNB_2_.html)\n",
    "\n",
    "Unit 9.6\n",
    "[Link](https://sgtech08.github.io/saathvik_2025/devops/2023/09/12/U9-6_IPYNB_2_.html)\n",
    "\n",
    "Unit 9.7\n",
    "[Link](https://sgtech08.github.io/saathvik_2025/devops/2023/09/12/U9-7_IPYNB_2_.html)\n",
    "\n",
    "Unit 9 Hacks\n",
    "[Link](https://sgtech08.github.io/saathvik_2025/devops/2023/09/21/U9-hacks_IPYNB_2_.html)"
   ]
  }
 ],
 "metadata": {
  "language_info": {
   "name": "python"
  },
  "orig_nbformat": 4
 },
 "nbformat": 4,
 "nbformat_minor": 2
}
