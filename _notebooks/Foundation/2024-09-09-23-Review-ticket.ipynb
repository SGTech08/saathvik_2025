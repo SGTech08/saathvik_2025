{
 "cells": [
  {
   "cell_type": "raw",
   "metadata": {
    "vscode": {
     "languageId": "raw"
    }
   },
   "source": [
    "---\n",
    "layout: post\n",
    "title: Review Ticket\n",
    "description:  Review TIcket\n",
    "type: issues \n",
    "comments: true\n",
    "---"
   ]
  },
  {
   "cell_type": "markdown",
   "metadata": {},
   "source": [
    "# Hacks\n",
    "\n",
    "## Hacks: Tools and Equpiment play\n",
    "\n",
    "[Hacks](https://sgtech08.github.io/saathvik_2025/2024/09/09/23-Review-ticket_IPYNB_2_.html) \n",
    "Notes: Included Java 17 (The version we use in the course) and can run java code in the notebook.\n",
    "\n",
    "\n",
    "## Hacks GitHub Pages Playground(and SASS Hack)\n",
    "\n",
    "## Hack Jupyter Notebooks\n",
    "\n",
    "\n",
    "## Frontend Development\n",
    "\n",
    "## Pair Showcase"
   ]
  }
 ],
 "metadata": {
  "language_info": {
   "name": "python"
  }
 },
 "nbformat": 4,
 "nbformat_minor": 2
}
