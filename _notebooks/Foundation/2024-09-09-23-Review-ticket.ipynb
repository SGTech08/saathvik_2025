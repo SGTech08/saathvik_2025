{
 "cells": [
  {
   "cell_type": "raw",
   "metadata": {
    "vscode": {
     "languageId": "raw"
    }
   },
   "source": [
    "---\n",
    "layout: post\n",
    "title: Review Ticket\n",
    "description:  Review TIcket\n",
    "type: issues \n",
    "comments: true\n",
    "---"
   ]
  },
  {
   "cell_type": "markdown",
   "metadata": {},
   "source": [
    "# Hacks\n",
    "\n",
    "## Hacks: Tools and Equpiment play\n",
    "\n",
    "[Hacks](https://sgtech08.github.io/saathvik_2025/2024/09/09/23-Review-ticket_IPYNB_2_.html) \n",
    "Notes: Included Java 17 (The version we use in the course) and can run java code in the notebook.\n",
    "\n",
    "\n",
    "## Hacks GitHub Pages Playground(and SASS Hack)\n",
    "[Github Pages](https://sgtech08.github.io/saathvik_2025/2024/09/08/23-github-pages_IPYNB_2_.html)\n",
    "Notes: Personalized already default pages. Found a way to change the themes on our pages. \n",
    "\n",
    "## Hack Jupyter Notebooks\n",
    "[Jupyter Notebooks](https://sgtech08.github.io/saathvik_2025/2024/09/08/23-playing-jupyer-notebooks_IPYNB_2_.html)\n",
    "Notes: Was abled to implement a sentiment analysis on a term based on the words used on the wikipedia pages. I used emojis to convey the sentiment to the user afterward.\n",
    "\n",
    "\n",
    "## Frontend Development\n",
    "[Frontend Development](http://sgtech08.github.io/saathvik_2025/2024/09/08/23-playing-frontend-wireframe_IPYNB_2_.html)\n",
    "\n",
    "## Pair Showcase\n",
    "[Movie Searcher With Reviews](https://sgtech08.github.io/student//5.a/c4.1/2023/09/05/movie-searchapi.html)"
   ]
  }
 ],
 "metadata": {
  "language_info": {
   "name": "python"
  }
 },
 "nbformat": 4,
 "nbformat_minor": 2
}
